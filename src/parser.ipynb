{
 "cells": [
  {
   "cell_type": "code",
   "execution_count": 1,
   "id": "c7dcc94b",
   "metadata": {},
   "outputs": [],
   "source": [
    "import sys\n",
    "import numpy as np\n",
    "import cv2\n",
    "import os\n",
    "from PIL import Image\n",
    "\n",
    "sys.path.append(\"/app\")"
   ]
  },
  {
   "cell_type": "code",
   "execution_count": 2,
   "id": "7555315d-ef2d-4478-a707-03c086306137",
   "metadata": {},
   "outputs": [],
   "source": [
    "# Lista de classes fornecidas pelo usuário\n",
    "classes = [\n",
    "    \"Skin\", \"Out of focus area\", \"Oral mucosa\", \"Enamel\", \"Tongue\", \"Lip\", \"Hard palate\",\n",
    "    \"Specular reflection\", \"Attached gingiva\", \"Soft palate\", \"Hair\", \"Marginal gingiva\",\n",
    "    \"Prosthetics\", \"Shadow/Noise\", \"Plastic\", \"Metal\", \"Gingivitis\", \"Attrition/Erosion\",\n",
    "    \"Inflammation\", \"Pigmentation\", \"Calculus\", \"Initial caries\", \"Stain\", \"Fluorosis\",\n",
    "    \"Microfracture\", \"Root\", \"Plaque\", \"Dentine caries\", \"Ulcer\", \"Leukoplakia\",\n",
    "    \"Blood vessel\", \"Mole\", \"Malignant lesion\", \"Fibroma\", \"Makeup\"\n",
    "]\n",
    "\n",
    "# Criar um dicionário mapeando o nome da classe para um valor numérico (int)\n",
    "class_map = {cls: idx + 1 for idx, cls in enumerate(classes)}  # Começa em 1 (0 = fundo)"
   ]
  },
  {
   "cell_type": "code",
   "execution_count": 3,
   "id": "755e5d7d",
   "metadata": {},
   "outputs": [],
   "source": [
    "def parse_annotation_mask_id(filepath, width, height, class_map):\n",
    "    \"\"\"Gera uma máscara com IDs inteiros para treinamento\"\"\"\n",
    "    mask = np.zeros((height, width), dtype=np.uint8)\n",
    "\n",
    "    with open(filepath, \"r\", encoding=\"utf-8\") as f:\n",
    "        for line in f:\n",
    "            parts = line.strip().split(\";\")\n",
    "            if len(parts) < 3:\n",
    "                continue\n",
    "\n",
    "            class_name = parts[0].strip()\n",
    "            class_id = class_map.get(class_name)\n",
    "            if class_id is None:\n",
    "                continue\n",
    "\n",
    "            points = []\n",
    "            for coord in parts[2:]:\n",
    "                try:\n",
    "                    x, y = map(int, coord.strip().split(\",\"))\n",
    "                    if 0 <= x < width and 0 <= y < height:\n",
    "                        points.append([x, y])\n",
    "                except:\n",
    "                    continue\n",
    "\n",
    "            if points:\n",
    "                contour = np.array(points, dtype=np.int32).reshape((-1, 1, 2))\n",
    "                cv2.fillPoly(mask, [contour], color=class_id)\n",
    "\n",
    "    return mask\n"
   ]
  },
  {
   "cell_type": "code",
   "execution_count": 4,
   "id": "469fe58a-703c-4290-8db3-26de5e342163",
   "metadata": {},
   "outputs": [],
   "source": [
    "def parse_annotation_mask_rgb(filepath, width, height):\n",
    "    \"\"\"Gera uma máscara colorida RGB para visualização\"\"\"\n",
    "    mask = np.zeros((height, width, 3), dtype=np.uint8)\n",
    "\n",
    "    with open(filepath, \"r\", encoding=\"utf-8\") as f:\n",
    "        for line in f:\n",
    "            parts = line.strip().split(\";\")\n",
    "            if len(parts) < 3:\n",
    "                continue\n",
    "\n",
    "            try:\n",
    "                r, g, b = map(int, parts[1].strip().split(\",\"))\n",
    "                color = (r, g, b)\n",
    "            except:\n",
    "                continue\n",
    "\n",
    "            points = []\n",
    "            for coord in parts[2:]:\n",
    "                try:\n",
    "                    x, y = map(int, coord.strip().split(\",\"))\n",
    "                    if 0 <= x < width and 0 <= y < height:\n",
    "                        points.append([x, y])\n",
    "                except:\n",
    "                    continue\n",
    "\n",
    "            if points:\n",
    "                contour = np.array(points, dtype=np.int32).reshape((-1, 1, 2))\n",
    "                cv2.fillPoly(mask, [contour], color=color)\n",
    "\n",
    "    return mask\n"
   ]
  },
  {
   "cell_type": "code",
   "execution_count": 5,
   "id": "8c6f3308",
   "metadata": {},
   "outputs": [
    {
     "data": {
      "text/plain": [
       "True"
      ]
     },
     "execution_count": 5,
     "metadata": {},
     "output_type": "execute_result"
    }
   ],
   "source": [
    "\n",
    "\n",
    "filepath = \"/app/dataset/Specim_IQ/front/0aa155fa_front_2_annot.csv\"\n",
    "# Para treinamento\n",
    "mask_id = parse_annotation_mask_id(filepath, 513, 513, class_map)\n",
    "cv2.imwrite(\"mask_id.png\", mask_id)  # ou use Image.fromarray(mask_id).save(...)\n",
    "\n",
    "# Para visualização\n",
    "mask_rgb = parse_annotation_mask_rgb(filepath, 513, 513)\n",
    "cv2.imwrite(\"mask_rgb.png\", mask_rgb)\n"
   ]
  },
  {
   "cell_type": "code",
   "execution_count": 6,
   "id": "c713f297-1813-44ae-8382-de6187b95fd1",
   "metadata": {},
   "outputs": [],
   "source": [
    "# Caminho base\n",
    "base_dir = \"/app/dataset\"\n",
    "\n",
    "# Definição das resoluções por câmera\n",
    "camera_resolutions = {\n",
    "    \"Specim_IQ\": (512, 512),\n",
    "    \"Nuance_EX\": (1392, 1040)\n",
    "}\n",
    "\n",
    "# Log de processamento\n",
    "log = []\n",
    "\n",
    "# Percorrer diretórios\n",
    "for root, _, files in os.walk(base_dir):\n",
    "    for file in files:\n",
    "        if file.endswith(\"_annot.csv\"):\n",
    "            annot_path = os.path.join(root, file)\n",
    "            base_name = file.replace(\"_annot.csv\", \"\")\n",
    "            image_name = base_name + \".tif\"\n",
    "            image_path = os.path.join(root, image_name)\n",
    "\n",
    "            # Detecta qual câmera está no caminho\n",
    "            resolution = None\n",
    "            for cam_name, (w, h) in camera_resolutions.items():\n",
    "                if cam_name in root:\n",
    "                    resolution = (w, h)\n",
    "                    break\n",
    "\n",
    "            if resolution is None:\n",
    "                log.append((\"UNKNOWN_CAMERA\", file))\n",
    "                continue\n",
    "\n",
    "            width, height = resolution\n",
    "            try:\n",
    "                mask = parse_annotation_mask_id(annot_path, width, height, class_map)\n",
    "                out_path = os.path.join(root, base_name + \"_masks.png\")\n",
    "                Image.fromarray(mask).save(out_path)\n",
    "                log.append((\"OK\", file))\n",
    "            except Exception as e:\n",
    "                log.append((\"ERROR\", file, str(e)))\n",
    "\n",
    "\n",
    "# import pandas as pd\n",
    "# log_df = pd.DataFrame(log, columns=[\"Status\", \"Arquivo\", \"Mensagem\"][:len(log[0])])\n",
    "# import ace_tools as tools; tools.display_dataframe_to_user(name=\"Log de Geração de Máscaras\", dataframe=log_df)\n"
   ]
  }
 ],
 "metadata": {
  "kernelspec": {
   "display_name": "Python 3 (ipykernel)",
   "language": "python",
   "name": "python3"
  },
  "language_info": {
   "codemirror_mode": {
    "name": "ipython",
    "version": 3
   },
   "file_extension": ".py",
   "mimetype": "text/x-python",
   "name": "python",
   "nbconvert_exporter": "python",
   "pygments_lexer": "ipython3",
   "version": "3.11.13"
  }
 },
 "nbformat": 4,
 "nbformat_minor": 5
}
